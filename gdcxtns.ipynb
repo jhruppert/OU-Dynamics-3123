{
 "cells": [
  {
   "cell_type": "markdown",
   "metadata": {},
   "source": [
    "## Jupyter Notebook to read in grib2 files from /weather directory and plot cross sections\n",
    "#### Originally coded by Patrick Beaty for AOS 311\n",
    "#### pbeaty@wisc.edu"
   ]
  },
  {
   "cell_type": "markdown",
   "metadata": {},
   "source": [
    "### __Important notes:__\n",
    "In order to successfully run this notebook, the Python environment must have specific packages downloaded. The environment called 'pbeaty' has these downloaded and should have no errors running this notebook.\n",
    "\n",
    "Packages needed:\n",
    "- xarray, os, matplotlib, numpy, glob, cftime, cfgrib, eccodes, wrf, scipy, cartopy, siphon, metpy, pandas"
   ]
  },
  {
   "cell_type": "code",
   "execution_count": 1,
   "metadata": {},
   "outputs": [
    {
     "name": "stdout",
     "output_type": "stream",
     "text": [
      "Notebook last updated: Fri Mar  4 16:47:45 2022\n"
     ]
    },
    {
     "ename": "ModuleNotFoundError",
     "evalue": "No module named 'xarray'",
     "output_type": "error",
     "traceback": [
      "\u001b[0;31m---------------------------------------------------------------------------\u001b[0m",
      "\u001b[0;31mModuleNotFoundError\u001b[0m                       Traceback (most recent call last)",
      "\u001b[0;32m<ipython-input-1-2e0ad81d5fb0>\u001b[0m in \u001b[0;36m<module>\u001b[0;34m\u001b[0m\n\u001b[1;32m      4\u001b[0m \u001b[0;34m\u001b[0m\u001b[0m\n\u001b[1;32m      5\u001b[0m \u001b[0;31m#Import statements\u001b[0m\u001b[0;34m\u001b[0m\u001b[0;34m\u001b[0m\u001b[0;34m\u001b[0m\u001b[0m\n\u001b[0;32m----> 6\u001b[0;31m \u001b[0;32mimport\u001b[0m \u001b[0mxarray\u001b[0m \u001b[0;32mas\u001b[0m \u001b[0mxr\u001b[0m\u001b[0;34m\u001b[0m\u001b[0;34m\u001b[0m\u001b[0m\n\u001b[0m\u001b[1;32m      7\u001b[0m \u001b[0;32mimport\u001b[0m \u001b[0mos\u001b[0m\u001b[0;34m\u001b[0m\u001b[0;34m\u001b[0m\u001b[0m\n\u001b[1;32m      8\u001b[0m \u001b[0;32mimport\u001b[0m \u001b[0mmatplotlib\u001b[0m\u001b[0;34m.\u001b[0m\u001b[0mpyplot\u001b[0m \u001b[0;32mas\u001b[0m \u001b[0mplt\u001b[0m\u001b[0;34m\u001b[0m\u001b[0;34m\u001b[0m\u001b[0m\n",
      "\u001b[0;31mModuleNotFoundError\u001b[0m: No module named 'xarray'"
     ]
    }
   ],
   "source": [
    "import datetime\n",
    "today = datetime.datetime.now()\n",
    "print(\"Notebook last updated:\", today.ctime())\n",
    "\n",
    "#Import statements\n",
    "import xarray as xr\n",
    "import os\n",
    "import matplotlib.pyplot as plt\n",
    "import numpy as np\n",
    "import glob\n",
    "import cftime\n",
    "from scipy.interpolate import griddata\n",
    "from matplotlib.gridspec import GridSpec\n",
    "import cartopy.crs as ccrs\n",
    "import cartopy as cart\n",
    "from cartopy.feature import NaturalEarthFeature\n",
    "from cartopy.util import add_cyclic_point\n",
    "import cartopy.feature as cfeature\n",
    "from scipy.ndimage.filters import gaussian_filter\n",
    "from wrf import getvar, to_np\n",
    "from metpy.plots import add_metpy_logo, SkewT, Hodograph\n",
    "import metpy.calc as mpcalc\n",
    "from metpy.units import units\n",
    "from metpy.future import storm_relative_helicity\n",
    "import matplotlib.gridspec as gridspec\n",
    "from metpy.interpolate import cross_section\n",
    "%matplotlib inline\n",
    "%config InlineBackend.figure_format='retina'"
   ]
  },
  {
   "cell_type": "code",
   "execution_count": 4,
   "metadata": {},
   "outputs": [
    {
     "name": "stdout",
     "output_type": "stream",
     "text": [
      "For most current model run, type 1. Otherwise, type 2.\n",
      "Your selection:1\n",
      "++++++++++++++++++++++++++++++++++++++++++++++++++++++++\n",
      "Which model forecast hour (F???) do you want? For example, hour 36 would be inputted as 036.\n",
      "Your selection:6\n"
     ]
    }
   ],
   "source": [
    "#Ask user if they want the most current model run or a mode run from some other time\n",
    "file_time = str(input('For most current model run, type 1. Otherwise, type 2.\\nYour selection:'))\n",
    "print(\"++++++++++++++++++++++++++++++++++++++++++++++++++++++++\")\n",
    "if file_time == '1':\n",
    "    model_run = str(input('Which model forecast hour (F???) do you want? For example, hour 36 would be inputted as 036.\\nYour selection:'))"
   ]
  },
  {
   "cell_type": "code",
   "execution_count": 5,
   "metadata": {},
   "outputs": [
    {
     "name": "stdout",
     "output_type": "stream",
     "text": [
      "We are going to run this file:  gblav0p25.22030412_F6\n",
      "The directory we are pulling the file from is:  /weather/data/grib2/gblav0p25.22030412_F6\n"
     ]
    }
   ],
   "source": [
    "#Based on above kernel, define filetype with syntax of /weather/data/grib2 syntax\n",
    "if file_time == '1':\n",
    "    #Grab most current model run\n",
    "    startTime=datetime.datetime.now()\n",
    "    year = startTime.year\n",
    "    if startTime.month <10:\n",
    "        month = '0'+str(startTime.month)\n",
    "    else:\n",
    "        month = str(startTime.month)\n",
    "    if startTime.day <10:\n",
    "        day = '0'+str(startTime.day)\n",
    "    else:\n",
    "        day = str(startTime.day)\n",
    "    if startTime.hour <10:\n",
    "        hour = '0'+str(startTime.hour)\n",
    "    else:\n",
    "        hour = str(startTime.hour)\n",
    "    mdate = str(year)+str(month)+str(day)\n",
    "    def get_init_hr(hour):\n",
    "        if int(hour) <6:\n",
    "            init_hour = '00'\n",
    "        elif int(hour) <12:\n",
    "            init_hour = '06'\n",
    "        elif int(hour) <17:\n",
    "            init_hour = '12'\n",
    "        elif int(hour) <22:\n",
    "            init_hour = '18'\n",
    "        else:\n",
    "            init_hour = '00'\n",
    "        return(init_hour)\n",
    "    init_hour = get_init_hr(hour)\n",
    "else:\n",
    "    #User-defined file and model run\n",
    "    year = int(input('Type desired year: '))\n",
    "    month = str(input('Type desired month: '))\n",
    "    day = str(input('Type desired day: '))\n",
    "    init_hour = str(input('Type desired initialization hour (??). For example, hour 9 would be inputed as 09. '))\n",
    "    model_run = str(input('Type desired model forecast hour (F???). For example, hour 36 would be inputted as 036. '))\n",
    "\n",
    "filename = 'gblav0p25.'+str(year-2000)+str(month)+str(day)+str(init_hour)+'_F'+str(model_run)\n",
    "print(\"We are going to run this file: \", filename)\n",
    "dir_name = '/weather/data/grib2/'\n",
    "file = dir_name + filename\n",
    "print(\"The directory we are pulling the file from is: \", file)"
   ]
  },
  {
   "cell_type": "code",
   "execution_count": 6,
   "metadata": {},
   "outputs": [
    {
     "ename": "ModuleNotFoundError",
     "evalue": "No module named 'cfgrib'",
     "output_type": "error",
     "traceback": [
      "\u001b[0;31m---------------------------------------------------------------------------\u001b[0m",
      "\u001b[0;31mModuleNotFoundError\u001b[0m                       Traceback (most recent call last)",
      "\u001b[0;32m<ipython-input-6-f52e9ed428d3>\u001b[0m in \u001b[0;36m<module>\u001b[0;34m\u001b[0m\n\u001b[1;32m      1\u001b[0m \u001b[0;31m#Get the dataset from the above file\u001b[0m\u001b[0;34m\u001b[0m\u001b[0;34m\u001b[0m\u001b[0;34m\u001b[0m\u001b[0m\n\u001b[0;32m----> 2\u001b[0;31m \u001b[0;32mfrom\u001b[0m \u001b[0mcfgrib\u001b[0m\u001b[0;34m.\u001b[0m\u001b[0mxarray_store\u001b[0m \u001b[0;32mimport\u001b[0m \u001b[0mopen_dataset\u001b[0m\u001b[0;34m\u001b[0m\u001b[0;34m\u001b[0m\u001b[0m\n\u001b[0m\u001b[1;32m      3\u001b[0m \u001b[0;34m\u001b[0m\u001b[0m\n\u001b[1;32m      4\u001b[0m ds = open_dataset(file,backend_kwargs={\n\u001b[1;32m      5\u001b[0m                         \u001b[0;34m'filter_by_keys'\u001b[0m\u001b[0;34m:\u001b[0m \u001b[0;34m{\u001b[0m\u001b[0;34m'typeOfLevel'\u001b[0m\u001b[0;34m:\u001b[0m \u001b[0;34m'isobaricInhPa'\u001b[0m\u001b[0;34m}\u001b[0m\u001b[0;34m,\u001b[0m\u001b[0;34m\u001b[0m\u001b[0;34m\u001b[0m\u001b[0m\n",
      "\u001b[0;31mModuleNotFoundError\u001b[0m: No module named 'cfgrib'"
     ]
    }
   ],
   "source": [
    "#Get the dataset from the above file\n",
    "from cfgrib.xarray_store import open_dataset\n",
    "\n",
    "ds = open_dataset(file,backend_kwargs={\n",
    "                        'filter_by_keys': {'typeOfLevel': 'isobaricInhPa'},\n",
    "                        'errors': 'ignore'})"
   ]
  },
  {
   "cell_type": "code",
   "execution_count": 7,
   "metadata": {},
   "outputs": [
    {
     "ename": "NameError",
     "evalue": "name 'ds' is not defined",
     "output_type": "error",
     "traceback": [
      "\u001b[0;31m---------------------------------------------------------------------------\u001b[0m",
      "\u001b[0;31mNameError\u001b[0m                                 Traceback (most recent call last)",
      "\u001b[0;32m<ipython-input-7-a55c4eeca320>\u001b[0m in \u001b[0;36m<module>\u001b[0;34m\u001b[0m\n\u001b[1;32m      3\u001b[0m \u001b[0;31m#grid mapping variable that is associated with the other data variables by the grid_mapping\u001b[0m\u001b[0;34m\u001b[0m\u001b[0;34m\u001b[0m\u001b[0;34m\u001b[0m\u001b[0m\n\u001b[1;32m      4\u001b[0m \u001b[0;31m#attribute. This is automatically parsed via the .parse_cf() method.\u001b[0m\u001b[0;34m\u001b[0m\u001b[0;34m\u001b[0m\u001b[0;34m\u001b[0m\u001b[0m\n\u001b[0;32m----> 5\u001b[0;31m \u001b[0mdata\u001b[0m \u001b[0;34m=\u001b[0m \u001b[0mds\u001b[0m\u001b[0;34m.\u001b[0m\u001b[0mmetpy\u001b[0m\u001b[0;34m.\u001b[0m\u001b[0mparse_cf\u001b[0m\u001b[0;34m(\u001b[0m\u001b[0;34m)\u001b[0m\u001b[0;34m.\u001b[0m\u001b[0msqueeze\u001b[0m\u001b[0;34m(\u001b[0m\u001b[0;34m)\u001b[0m\u001b[0;34m\u001b[0m\u001b[0;34m\u001b[0m\u001b[0m\n\u001b[0m",
      "\u001b[0;31mNameError\u001b[0m: name 'ds' is not defined"
     ]
    }
   ],
   "source": [
    "#Parse through the data using cf conventions\n",
    "#FROM METPY WEBSITE: First, if your dataset is already conforming to the CF Conventions, it will have a \n",
    "#grid mapping variable that is associated with the other data variables by the grid_mapping \n",
    "#attribute. This is automatically parsed via the .parse_cf() method.\n",
    "data = ds.metpy.parse_cf().squeeze()"
   ]
  },
  {
   "cell_type": "code",
   "execution_count": null,
   "metadata": {},
   "outputs": [],
   "source": [
    "#Pick start and end values for user-defined cross section\n",
    "llat = float(input(\"Input first lat (degrees N): \"))\n",
    "wlon = float(input(\"Input first lon (degrees E): \"))\n",
    "ulat = float(input(\"Input second lat (degrees N): \"))\n",
    "elon = float(input(\"Input second lon (degrees E): \"))\n",
    "print(\"Cross-section selection: (\"+str(llat)+'N,'+str(wlon)+'E) to ('+str(ulat)+'N,'+str(elon)+'E)')\n",
    "\n",
    "start = (llat, wlon)\n",
    "end = (ulat, elon)\n",
    "cross = cross_section(data, start, end).set_coords(('latitude', 'longitude'))"
   ]
  },
  {
   "cell_type": "code",
   "execution_count": null,
   "metadata": {},
   "outputs": [],
   "source": [
    "#Calculate potential temperature using pressure and temp from model run\n",
    "#Get temp and pressure data from dataset\n",
    "temp = cross[\"t\"].values[:-12,:]\n",
    "press = cross[\"isobaricInhPa\"][:-12]\n",
    "#Get length of temp and index from dataset\n",
    "plen = len(cross[\"isobaricInhPa\"][:-12])\n",
    "ilen = len(cross[\"index\"])\n",
    "\n",
    "#For loop to calculate potential temperature\n",
    "pot_temp = np.zeros((plen, ilen))\n",
    "Rd = 287 #J/kg K\n",
    "cp = 1004 #J/kg K\n",
    "kappa = Rd / cp\n",
    "p0 = 1000 #hPa\n",
    "for p in range(plen):\n",
    "    for i in range(ilen):\n",
    "        pot_temp[p,i] = temp[p,i] * (p0/press[p])**kappa"
   ]
  },
  {
   "cell_type": "code",
   "execution_count": null,
   "metadata": {},
   "outputs": [],
   "source": [
    "#Get wind normal to cross section from dataset\n",
    "cross['u'] = cross['u']\n",
    "cross['v'] = cross['v']\n",
    "cross['t_wind'], cross['n_wind'] = mpcalc.cross_section_components(cross['u'],cross['v'])\n",
    "#Define relative hum\n",
    "cross['relative humidity'] = cross['r']"
   ]
  },
  {
   "cell_type": "code",
   "execution_count": null,
   "metadata": {},
   "outputs": [],
   "source": [
    "#Make the cross section plot\n",
    "# Define the figure object and primary axes\n",
    "fig = plt.figure(1, figsize=(16., 9.))\n",
    "ax = plt.axes()\n",
    "\n",
    "# Plot RH using contourf\n",
    "rh_contour = ax.contourf(cross['longitude'], press, cross['r'][:-12,:],\n",
    "                         levels=np.arange(0, 100.5, .5), cmap='YlGnBu',extend=\"both\")\n",
    "rh_colorbar = fig.colorbar(rh_contour)\n",
    "\n",
    "# Plot potential temperature using contour, with some custom labeling\n",
    "theta_contour = ax.contour(cross['longitude'], press, pot_temp,\n",
    "                           levels=np.arange(250, 450, 5), colors='k', linewidths=2)\n",
    "theta_contour.clabel(theta_contour.levels[1::2], fontsize=8, colors='k', inline=1,\n",
    "                     inline_spacing=8, fmt='%i', rightside_up=True, use_clabeltext=True)\n",
    "\n",
    "# Plot winds using the axes interface directly, with some custom indexing to make the barbs\n",
    "# less crowded\n",
    "wind_slc_vert = list(range(0, 21, 1))\n",
    "wind_slc_horz = slice(5, 100, 5)\n",
    "ax.barbs(cross['longitude'][wind_slc_horz], press[wind_slc_vert],\n",
    "         cross['t_wind'][wind_slc_vert, wind_slc_horz]*1.94384,\n",
    "         cross['n_wind'][wind_slc_vert, wind_slc_horz]*1.94384, color='k')\n",
    "\n",
    "# Adjust the y-axis to be logarithmic\n",
    "ax.set_yscale('symlog')\n",
    "ax.set_yticklabels(np.arange(1000, 50, -100))\n",
    "ax.set_ylim(press.max(), press.min())\n",
    "ax.set_yticks(np.arange(1000, 50, -100))\n",
    "\n",
    "# Define the CRS and inset axes\n",
    "#CONUS\n",
    "wlon=220\n",
    "elon=310\n",
    "slat=20\n",
    "nlat=55\n",
    "data_zoom = data.sel(latitude=slice(nlat,slat)).sel(longitude=slice(wlon,elon))\n",
    "\n",
    "data_crs = data_zoom['gh'].metpy.cartopy_crs\n",
    "ax_inset = fig.add_axes([0.125, 0.665, 0.25, 0.25], projection=data_crs)\n",
    "\n",
    "# Plot geopotential height at 500 hPa using xarray's contour wrapper\n",
    "ax_inset.contour(data_zoom['longitude'],\n",
    "                 data_zoom['latitude'],\n",
    "                 data_zoom['gh'].sel(isobaricInhPa=500.),\n",
    "                 levels=np.arange(5100, 6000, 60), cmap='inferno')\n",
    "\n",
    "# Plot the path of the cross section\n",
    "endpoints = data_crs.transform_points(ccrs.Geodetic(),\n",
    "                                      *np.vstack([start, end]).transpose()[::-1])\n",
    "ax_inset.plot([start[1], end[1]],\n",
    "            [start[0], end[0]], color=\"black\", marker=\"o\",\n",
    "            transform=data_crs, zorder=3)\n",
    "\n",
    "# Add geographic features\n",
    "ax_inset.coastlines()\n",
    "ax_inset.add_feature(cfeature.STATES.with_scale('50m'), edgecolor='k', alpha=0.2, zorder=0)\n",
    "\n",
    "# Set the titles and axes labels\n",
    "ax_inset.set_title('')\n",
    "ax.set_title('GFS Cross-Section\\n'+str(model_run)+\"-hour forecast initialized at\\n\"+str(init_hour)+\n",
    "             ' UTC on '+str(month)+'/'+str(day)+'/'+str(year)+' for:\\n'\n",
    "             '('+str(start[0])+'N,'+str(start[1])+'E) to ('+str(end[0])+'N,'+str(end[1])+'E)' \n",
    "             '\\nPotential Temperature (K), Tangential Winds (knots), '\n",
    "             'Relative Humidity',fontweight=\"bold\",loc=\"right\")\n",
    "ax.set_title('Inset: Cross-Section Path and\\n500 hPa Geopotential Height', color='red', fontweight='bold',loc='left')\n",
    "ax.set_ylabel('Pressure (hPa)',fontsize=14)\n",
    "ax.set_xlabel('Longitude (degrees east)', fontsize=14)\n",
    "rh_colorbar.set_label('Relative Humidity (dimensionless)',fontsize=14)\n",
    "\n",
    "plt.show()"
   ]
  },
  {
   "cell_type": "code",
   "execution_count": null,
   "metadata": {},
   "outputs": [],
   "source": []
  }
 ],
 "metadata": {
  "kernelspec": {
   "display_name": "metr3123",
   "language": "python",
   "name": "metr3123"
  },
  "language_info": {
   "codemirror_mode": {
    "name": "ipython",
    "version": 3
   },
   "file_extension": ".py",
   "mimetype": "text/x-python",
   "name": "python",
   "nbconvert_exporter": "python",
   "pygments_lexer": "ipython3",
   "version": "3.8.5"
  }
 },
 "nbformat": 4,
 "nbformat_minor": 4
}

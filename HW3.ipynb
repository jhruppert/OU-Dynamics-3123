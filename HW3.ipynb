{
 "cells": [
  {
   "cell_type": "code",
   "execution_count": 2,
   "id": "3efa3f94-16cb-4955-bb20-ba4911c5ff0b",
   "metadata": {},
   "outputs": [],
   "source": [
    "from netCDF4 import Dataset"
   ]
  },
  {
   "cell_type": "code",
   "execution_count": 3,
   "id": "931ea881-4538-4dfd-bb3e-29c2b8a6a65e",
   "metadata": {},
   "outputs": [],
   "source": [
    "nc = Dataset('data/sandy/ERA5-sandy-pl_1000hpa.nc')"
   ]
  },
  {
   "cell_type": "code",
   "execution_count": 4,
   "id": "77172523-d720-493e-9ff8-dab832743e7e",
   "metadata": {},
   "outputs": [
    {
     "data": {
      "text/plain": [
       "<class 'netCDF4._netCDF4.Dataset'>\n",
       "root group (NETCDF3_64BIT_OFFSET data model, file format NETCDF3):\n",
       "    CDI: Climate Data Interface version 1.9.10 (https://mpimet.mpg.de/cdi)\n",
       "    Conventions: CF-1.6\n",
       "    history: Fri Mar 04 18:45:56 2022: cdo copy -sellevidx,1 ERA5-sandy-pl.nc ERA5-sandy-pl_1000hpa.nc\n",
       "2021-07-12 04:03:24 GMT by grib_to_netcdf-2.20.0: /opt/ecmwf/mars-client/bin/grib_to_netcdf -S param -o /cache/data5/adaptor.mars.internal-1626062600.9567401-9328-12-4d07ccb9-b536-4fc3-a4fb-979466927f5a.nc /cache/tmp/4d07ccb9-b536-4fc3-a4fb-979466927f5a-adaptor.mars.internal-1626062581.6675367-9328-14-tmp.grib\n",
       "    CDO: Climate Data Operators version 1.9.10 (https://mpimet.mpg.de/cdo)\n",
       "    dimensions(sizes): time(16), longitude(321), latitude(361), level(1)\n",
       "    variables(dimensions): int32 time(time), float32 longitude(longitude), float32 latitude(latitude), float64 level(level), int16 z(time, level, latitude, longitude), int16 r(time, level, latitude, longitude), int16 pv(time, level, latitude, longitude), int16 t(time, level, latitude, longitude), int16 u(time, level, latitude, longitude), int16 v(time, level, latitude, longitude), int16 w(time, level, latitude, longitude), int16 vo(time, level, latitude, longitude)\n",
       "    groups: "
      ]
     },
     "execution_count": 4,
     "metadata": {},
     "output_type": "execute_result"
    }
   ],
   "source": [
    "nc"
   ]
  },
  {
   "cell_type": "code",
   "execution_count": 5,
   "id": "21d2778a-bf39-494b-a0e5-4c3dd0cbf82f",
   "metadata": {},
   "outputs": [
    {
     "data": {
      "text/plain": [
       "<class 'netCDF4._netCDF4.Variable'>\n",
       "int16 u(time, level, latitude, longitude)\n",
       "    standard_name: eastward_wind\n",
       "    long_name: U component of wind\n",
       "    units: m s**-1\n",
       "    add_offset: 17.759962241085315\n",
       "    scale_factor: 0.002109209235620079\n",
       "    _FillValue: -32767\n",
       "    missing_value: -32767\n",
       "unlimited dimensions: time\n",
       "current shape = (16, 1, 361, 321)\n",
       "filling on"
      ]
     },
     "execution_count": 5,
     "metadata": {},
     "output_type": "execute_result"
    }
   ],
   "source": [
    "nc.variables['u']"
   ]
  },
  {
   "cell_type": "code",
   "execution_count": 6,
   "id": "0dc977c8-fa35-4c41-88bb-7d40d03f077b",
   "metadata": {},
   "outputs": [
    {
     "data": {
      "text/plain": [
       "masked_array(\n",
       "  data=[[[[ 4.20477164e-04,  4.20477164e-04,  4.20477164e-04, ...,\n",
       "            4.20477164e-04,  4.20477164e-04,  4.20477164e-04],\n",
       "          [ 7.22657132e+00,  7.22868053e+00,  7.23078974e+00, ...,\n",
       "            3.75859721e-01,  3.37893955e-01,  2.99928189e-01],\n",
       "          [ 6.26266270e+00,  6.26477191e+00,  6.26899033e+00, ...,\n",
       "           -8.30607962e-01, -8.70682937e-01, -9.10757913e-01],\n",
       "          ...,\n",
       "          [-6.95153316e+00, -6.95786079e+00, -6.94520554e+00, ...,\n",
       "           -5.20299871e+00, -5.91802064e+00, -6.66889913e+00],\n",
       "          [-7.02324628e+00, -7.02746470e+00, -6.94942395e+00, ...,\n",
       "           -5.63960502e+00, -4.80435816e+00, -5.47719591e+00],\n",
       "          [-6.86083717e+00, -6.77857801e+00, -6.73850303e+00, ...,\n",
       "           -6.06144687e+00, -4.26861902e+00, -4.57867277e+00]]],\n",
       "\n",
       "\n",
       "        [[[ 4.20477164e-04,  4.20477164e-04,  4.20477164e-04, ...,\n",
       "            4.20477164e-04,  4.20477164e-04,  4.20477164e-04],\n",
       "          [ 5.62568151e+00,  5.62989993e+00,  5.63411835e+00, ...,\n",
       "            8.84179147e-01,  8.54650218e-01,  8.25121288e-01],\n",
       "          [ 5.15954627e+00,  5.16587390e+00,  5.17220152e+00, ...,\n",
       "            5.17176740e-01,  4.85538601e-01,  4.51791254e-01],\n",
       "          ...,\n",
       "          [-5.75772074e+00, -5.69866288e+00, -5.65858790e+00, ...,\n",
       "           -3.04316845e+00, -4.77693844e+00, -5.88216408e+00],\n",
       "          [-5.77248520e+00, -5.77037599e+00, -5.73030102e+00, ...,\n",
       "           -3.68014964e+00, -3.73920750e+00, -4.60609249e+00],\n",
       "          [-5.67546158e+00, -5.71975497e+00, -5.69655367e+00, ...,\n",
       "           -4.41626366e+00, -3.16339338e+00, -3.61054573e+00]]],\n",
       "\n",
       "\n",
       "        [[[ 4.20477164e-04,  4.20477164e-04,  4.20477164e-04, ...,\n",
       "            4.20477164e-04,  4.20477164e-04,  4.20477164e-04],\n",
       "          [ 6.25422586e+00,  6.25633507e+00,  6.25844428e+00, ...,\n",
       "            1.08877244e+00,  1.05924351e+00,  1.02971458e+00],\n",
       "          [ 5.12158050e+00,  5.12368971e+00,  5.12790813e+00, ...,\n",
       "            6.43729294e-01,  6.14200365e-01,  5.86780645e-01],\n",
       "          ...,\n",
       "          [-5.94754957e+00, -5.91380222e+00, -5.86739962e+00, ...,\n",
       "           -3.80670219e+00, -4.59132803e+00, -5.02160671e+00],\n",
       "          [-5.92645747e+00, -5.89060092e+00, -5.82310622e+00, ...,\n",
       "           -3.84044954e+00, -4.12308358e+00, -4.56601752e+00],\n",
       "          [-6.03613636e+00, -5.93067589e+00, -5.77459441e+00, ...,\n",
       "           -3.88052452e+00, -3.80037457e+00, -4.19901511e+00]]],\n",
       "\n",
       "\n",
       "        ...,\n",
       "\n",
       "\n",
       "        [[[ 4.20477164e-04,  4.20477164e-04,  4.20477164e-04, ...,\n",
       "            4.20477164e-04,  4.20477164e-04,  4.20477164e-04],\n",
       "          [ 2.63904123e+00,  2.61794914e+00,  2.59685705e+00, ...,\n",
       "           -2.92505273e+00, -2.94825403e+00, -2.96934613e+00],\n",
       "          [ 3.08197517e+00,  3.07353833e+00,  3.06510150e+00, ...,\n",
       "            5.08739903e-01,  4.81320183e-01,  4.53900463e-01],\n",
       "          ...,\n",
       "          [-9.08816212e+00, -9.17042128e+00, -9.19784100e+00, ...,\n",
       "           -5.03004355e+00, -7.15401725e+00, -8.32884679e+00],\n",
       "          [-9.34759486e+00, -9.45727374e+00, -9.48469346e+00, ...,\n",
       "           -5.26205657e+00, -5.23041843e+00, -6.37360983e+00],\n",
       "          [-9.54586052e+00, -9.63233810e+00, -9.67452229e+00, ...,\n",
       "           -5.97918771e+00, -4.33822292e+00, -5.04902643e+00]]],\n",
       "\n",
       "\n",
       "        [[[ 4.20477164e-04,  4.20477164e-04,  4.20477164e-04, ...,\n",
       "            4.20477164e-04,  4.20477164e-04,  4.20477164e-04],\n",
       "          [ 2.79934113e+00,  2.75926616e+00,  2.72130039e+00, ...,\n",
       "           -7.96817202e+00, -7.98926411e+00, -8.01035620e+00],\n",
       "          [ 2.14970469e+00,  2.11173892e+00,  2.07377316e+00, ...,\n",
       "           -7.27002376e+00, -7.29533427e+00, -7.31853557e+00],\n",
       "          ...,\n",
       "          [-7.29955269e+00, -7.34595529e+00, -7.40712236e+00, ...,\n",
       "           -6.33986249e+00, -7.87114839e+00, -9.08816212e+00],\n",
       "          [-7.35439213e+00, -7.41134078e+00, -7.48727231e+00, ...,\n",
       "           -6.33142565e+00, -6.77225038e+00, -7.87325760e+00],\n",
       "          [-7.44508812e+00, -7.53789333e+00, -7.58218672e+00, ...,\n",
       "           -6.35040853e+00, -6.02980873e+00, -6.91356740e+00]]],\n",
       "\n",
       "\n",
       "        [[[ 4.20477164e-04,  4.20477164e-04,  4.20477164e-04, ...,\n",
       "            4.20477164e-04,  4.20477164e-04,  4.20477164e-04],\n",
       "          [ 2.75504774e+00,  2.72973723e+00,  2.70653593e+00, ...,\n",
       "           -4.90770941e+00, -4.92458309e+00, -4.94356597e+00],\n",
       "          [ 2.19399808e+00,  2.16868757e+00,  2.14126785e+00, ...,\n",
       "           -5.26416577e+00, -5.28103945e+00, -5.29791312e+00],\n",
       "          ...,\n",
       "          [-8.14534559e+00, -8.06308643e+00, -8.09894299e+00, ...,\n",
       "           -7.07597651e+00, -8.24447842e+00, -8.31408233e+00],\n",
       "          [-8.01879304e+00, -8.02301146e+00, -8.15167322e+00, ...,\n",
       "           -6.22385598e+00, -6.29135067e+00, -6.89458451e+00],\n",
       "          [-7.94918913e+00, -8.08417852e+00, -8.28033498e+00, ...,\n",
       "           -5.70499051e+00, -5.59953004e+00, -6.30822435e+00]]]],\n",
       "  mask=False,\n",
       "  fill_value=1e+20)"
      ]
     },
     "execution_count": 6,
     "metadata": {},
     "output_type": "execute_result"
    }
   ],
   "source": [
    "nc.variables['u'][:]"
   ]
  },
  {
   "cell_type": "code",
   "execution_count": null,
   "id": "5c94ba45-a89b-4909-8e7d-e07132322505",
   "metadata": {},
   "outputs": [],
   "source": []
  }
 ],
 "metadata": {
  "kernelspec": {
   "display_name": "Python 3 (ipykernel)",
   "language": "python",
   "name": "python3"
  },
  "language_info": {
   "codemirror_mode": {
    "name": "ipython",
    "version": 3
   },
   "file_extension": ".py",
   "mimetype": "text/x-python",
   "name": "python",
   "nbconvert_exporter": "python",
   "pygments_lexer": "ipython3",
   "version": "3.10.2"
  }
 },
 "nbformat": 4,
 "nbformat_minor": 5
}

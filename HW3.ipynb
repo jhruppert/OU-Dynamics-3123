{
 "cells": [
  {
   "cell_type": "markdown",
   "id": "e25dccf4-960c-4bfe-8e30-501fb6b28026",
   "metadata": {},
   "source": [
    "# METR 3123 HW \\#3 – Due Monday March 21 at 9 PM.\n",
    "\n",
    "\n",
    "### This is the jupyter notebook for our 3rd homework assignment."
   ]
  },
  {
   "cell_type": "markdown",
   "id": "3365ce45-f702-4c9b-a388-2c9ce44c8402",
   "metadata": {},
   "source": [
    "---"
   ]
  },
  {
   "cell_type": "markdown",
   "id": "496a8ff8-2bb1-4b13-b04e-9b41c9df7815",
   "metadata": {},
   "source": [
    "### About our programming framework\n",
    "\n",
    "Jupyter is a web-based interactive coding framework that many use as their primary programming platform, because its block formatting caters very well to debugging, while the blocks can be a mix of text (like this one), code, and figures.\n",
    "\n",
    "Please watch the first 3 minutes of this great [tutorial](https://www.youtube.com/watch?v=HW29067qVWk) on jupyter as an intro. While the remainder of that video covers how to install jupyter on your own machine, *you will not need to install anything for our programming assignments.* We are using this online, fully self-contained approach called **Binder**, which removes the need for installing any software - rather, we can use this framework to modify preexisting python code for assignments.\n",
    "\n",
    "Through this website, you are viewing a newly created **Binder**, which is a carbon copy of our [class Github repository](https://github.com/jhruppert/OU-Dynamics-3123). ***SAVE YOUR BINDER URL IN ORDER TO RETURN TO YOUR WORK.*** What you modify here will not change anything in our class github repository, but you can return to your work at a later time using the same Binder URL. If something goes wrong, you can always click the binder link in our github page again to start a new one."
   ]
  },
  {
   "cell_type": "markdown",
   "id": "dccce486-a3e9-432d-acc8-23b6919d622c",
   "metadata": {},
   "source": [
    "___"
   ]
  },
  {
   "cell_type": "markdown",
   "id": "ed5a010d-afc2-4f24-bad1-2f55dfb40e2c",
   "metadata": {},
   "source": [
    "### The Assignment\n",
    "\n",
    "We will read in and analyze ERA5 reanalysis data from [Hurricane Sandy (2012)](https://en.wikipedia.org/wiki/Hurricane_Sandy), which during its landfall in New Jersey interacted with a phenomenal upper-level trough/ridge pattern.\n",
    "\n",
    "The code blocks below are already set up to read in the data and plot horizontal maps of wind and geopotential height.\n",
    "\n",
    "**What you will do:** you will modify and add to this code to produce horizontal maps for the 300-hPa level of:\n",
    "1. Geostrophic wind\n",
    "2. Ageostrophic wind\n",
    "3. Divergence\n",
    "\n",
    "Python functions of interest (google is your friend): \"gradient\"\n",
    "\n",
    "To run the code, click on a code block to highlight it, then run it by pressing the Play button in the toolbar (or learn some [keyboard shortcuts](https://gist.github.com/discdiver/9e00618756d120a8c9fa344ac1c375ac)). Do the same thing progressing down the notebook in sequence. In this way, any code error will usually be contained to whichever block you're modifying."
   ]
  },
  {
   "cell_type": "markdown",
   "id": "7fed416e-ff6e-47e4-9c8f-a261d7259241",
   "metadata": {},
   "source": [
    "---"
   ]
  },
  {
   "cell_type": "markdown",
   "id": "4dadc2c6-ae31-49d3-89b3-0a488187222e",
   "metadata": {},
   "source": [
    "This block loads up necessary packages:"
   ]
  },
  {
   "cell_type": "code",
   "execution_count": null,
   "id": "3efa3f94-16cb-4955-bb20-ba4911c5ff0b",
   "metadata": {},
   "outputs": [],
   "source": [
    "from netCDF4 import Dataset\n",
    "import numpy as np\n",
    "import matplotlib.pyplot as plt\n",
    "import cartopy"
   ]
  },
  {
   "cell_type": "markdown",
   "id": "404931cf-5b17-4947-87ef-7bddd53373a9",
   "metadata": {},
   "source": [
    "The below command lists the contents of the data directory (7 netcdf files):"
   ]
  },
  {
   "cell_type": "code",
   "execution_count": null,
   "id": "c61b88bf-6b1c-4089-bfaa-0b8647f6359c",
   "metadata": {},
   "outputs": [],
   "source": [
    "!ls data/sandy/"
   ]
  },
  {
   "cell_type": "markdown",
   "id": "d0d1a4f7-d4f4-4388-8290-612d31eaa865",
   "metadata": {},
   "source": [
    "Each file is a separate pressure level (the numbers in the filename are hPa), containing the following:\n",
    "- 16 time steps (dt = 6 h), starting at 0000 UTC 27 Oct 2012\n",
    "- With the variables:\n",
    "    - \"u\" - zonal wind (m/s)\n",
    "    - \"v\" - meridional ...\n",
    "    - \"w\" - vertical ...\n",
    "    - \"t\" - temperature (K)\n",
    "    - \"z\" - geopotential ($m^2/s^2$)\n",
    "\n",
    "In the below blocks, you'll find variables that you can modify to change the desired pressure level (changes the input file) and time step to plot."
   ]
  },
  {
   "cell_type": "code",
   "execution_count": null,
   "id": "931ea881-4538-4dfd-bb3e-29c2b8a6a65e",
   "metadata": {},
   "outputs": [],
   "source": [
    "pressure = '300' # select the pressure level to plot\n",
    "nc = Dataset('data/sandy/ERA5-sandy-pl_'+pressure+'.nc') # this opens the netcdf file"
   ]
  },
  {
   "cell_type": "code",
   "execution_count": null,
   "id": "21d2778a-bf39-494b-a0e5-4c3dd0cbf82f",
   "metadata": {},
   "outputs": [],
   "source": [
    "# Read in some essentials\n",
    "\n",
    "itime = 10 # choose index of time\n",
    "\n",
    "# horizontal wind components\n",
    "u = nc.variables['u'][itime, :, :] # result is 2d array (lat, lon), m/s\n",
    "v = nc.variables['v'][itime, :, :]\n",
    "# wind speed in m/s\n",
    "spd = np.sqrt(u**2 + v**2)\n",
    "\n",
    "# geopotential\n",
    "phi = nc.variables['z'][itime, :, :] # m2/s2\n",
    "# geopotential height (divide by gravity constant)\n",
    "g=9.81 # m/s^2\n",
    "geoz = phi / g / 10 # m2/s2 --> m --> dam\n",
    "\n",
    "# make 2d lat, lon grid to match u, v size\n",
    "lat, lon = np.meshgrid(nc.variables['latitude'][:], nc.variables['longitude'][:], indexing='ij')"
   ]
  },
  {
   "cell_type": "code",
   "execution_count": null,
   "id": "4998e024-afc2-4a42-838d-12557f197f81",
   "metadata": {},
   "outputs": [],
   "source": [
    "# New analysis\n",
    "\n"
   ]
  },
  {
   "cell_type": "code",
   "execution_count": null,
   "id": "47464783-7027-4673-8f30-0572f20a467b",
   "metadata": {},
   "outputs": [],
   "source": [
    "# select plotting area\n",
    "plt_area=[-120, -50, 10, 70] # W,E,S,N\n",
    "\n",
    "spacing=10 #barbspacing (smaller if zoomed in)\n",
    "\n",
    "# create figure\n",
    "fig = plt.figure(figsize=(20,16))\n",
    "ax = fig.add_subplot(111,projection=cartopy.crs.PlateCarree())\n",
    "ax.set_title(pressure + ' hPa Winds', fontsize=20)\n",
    "\n",
    "# fill contour for wind speed (jet streaks)\n",
    "im = ax.contourf(lon, lat, spd, np.arange(30, 70, 10), cmap='GnBu', alpha=0.6, \\\n",
    "                 extend='max',projection=cartopy.crs.PlateCarree(), zorder=2)\n",
    "cbar = plt.colorbar(im, ax=ax); cbar.ax.set_ylabel('m s$^{-1}$')\n",
    "\n",
    "# line contour for geopotential height\n",
    "im = ax.contour(lon, lat, geoz, np.arange(800, 1000, 10), colors='black', projection=cartopy.crs.PlateCarree(), zorder=2)\n",
    "\n",
    "# wind barbs\n",
    "mps_to_kts=1.94384 # conversion factor from m/s to knots for barbs\n",
    "ax.barbs(lon[::spacing,::spacing], lat[::spacing,::spacing], \\\n",
    "         u[::spacing,::spacing]*mps_to_kts, v[::spacing,::spacing]*mps_to_kts, zorder=2)\n",
    "\n",
    "# add map features\n",
    "ax.add_feature(cartopy.feature.LAND,facecolor=\"lightgray\") #land color\n",
    "# ax.add_feature(cartopy.feature.OCEAN) #ocean color\n",
    "ax.add_feature(cartopy.feature.COASTLINE)\n",
    "ax.add_feature(cartopy.feature.STATES)\n",
    "ax.gridlines(draw_labels=True, dms=True, x_inline=False, y_inline=False)\n",
    "\n",
    "# Zoom into selected area (comment this out to plot entire available area)\n",
    "ax.set_extent(plt_area)\n",
    "\n",
    "plt.show()"
   ]
  }
 ],
 "metadata": {
  "kernelspec": {
   "display_name": "Python 3 (ipykernel)",
   "language": "python",
   "name": "python3"
  },
  "language_info": {
   "codemirror_mode": {
    "name": "ipython",
    "version": 3
   },
   "file_extension": ".py",
   "mimetype": "text/x-python",
   "name": "python",
   "nbconvert_exporter": "python",
   "pygments_lexer": "ipython3",
   "version": "3.7.12"
  }
 },
 "nbformat": 4,
 "nbformat_minor": 5
}

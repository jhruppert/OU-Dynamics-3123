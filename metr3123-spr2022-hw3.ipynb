{
 "cells": [
  {
   "cell_type": "markdown",
   "metadata": {},
   "source": [
    "# METR 3123 HW \\#3 – Due Wednesday March 23 at 11:59 PM.\n",
    "\n",
    "\n",
    "### This is the jupyter notebook for our 3rd homework assignment."
   ]
  },
  {
   "cell_type": "markdown",
   "metadata": {},
   "source": [
    "---"
   ]
  },
  {
   "cell_type": "markdown",
   "metadata": {},
   "source": [
    "### About our programming framework\n",
    "\n",
    "Jupyter is a web-based interactive coding framework that many use as their primary programming platform, because its block formatting caters very well to debugging, while the blocks can be a mix of text (like this one), code, and figures.\n",
    "\n",
    "Please watch the first 3 minutes of this jupyter [tutorial](https://www.youtube.com/watch?v=HW29067qVWk) as an intro. While the remainder of that video covers how to install jupyter on your own machine using Conda, *you are not required to install anything for this assignment.* Kaggle provides an online, fully self-contained approach that removes the need for installing any software. You will complete your assignment by modifying a carbon copy of this notebook.\n",
    "\n",
    "To run code in this notebook, click on a code block to highlight it, then run it by pressing the Play button in the toolbar (or learn some [keyboard shortcuts](https://gist.github.com/discdiver/9e00618756d120a8c9fa344ac1c375ac)). Do the same thing progressing down the notebook in sequence. In this way, any code error will usually be contained to whichever block you're modifying."
   ]
  },
  {
   "cell_type": "markdown",
   "metadata": {},
   "source": [
    "___"
   ]
  },
  {
   "cell_type": "markdown",
   "metadata": {},
   "source": [
    "### The Assignment\n",
    "\n",
    "For this assignment we're going to more deeply examine the intense late-January 2022 winter storm that we consdered in Exam 1, which was associated with a very pronounced upper-level trough/ridge pattern and highly ageostrophic flow.\n",
    "\n",
    "The code blocks below are already set up to read in the data and plot geopotential height and wind at 300 hPa.\n",
    "\n",
    "**What you will do:** you will modify and add to this code to produce horizontal maps for the 300-hPa level of:\n",
    "1. Geostrophic wind\n",
    "2. Ageostrophic wind\n",
    "3. Relative vorticity\n",
    "\n",
    "Each of these calculations will lean heavily on the Python function numpy.gradient\n",
    "\n",
    "Below I have provided some example code using this function that you can leverage for your calculations.\n",
    "\n",
    "For the assigment you will both submit a link to your notebook through [Gradescope](https://www.gradescope.com/) and answer the questions about your results in the Gradescope assignment form.\n",
    "\n",
    "Some notes:\n",
    "- You are welcome to explore all available time steps and pressure levels, but I am looking for your results and write-up corresponding to p-level = 300 hPa, time = any\n",
    "- You will simply provide a link to your completed notebook via our Slack channel"
   ]
  },
  {
   "cell_type": "markdown",
   "metadata": {},
   "source": [
    "---"
   ]
  },
  {
   "cell_type": "code",
   "execution_count": null,
   "metadata": {
    "tags": []
   },
   "outputs": [],
   "source": [
    "# load necessary packages:\n",
    "from netCDF4 import Dataset\n",
    "import numpy as np\n",
    "import matplotlib.pyplot as plt\n",
    "import cartopy"
   ]
  },
  {
   "cell_type": "markdown",
   "metadata": {},
   "source": [
    "The below command lists the contents of the data directory (7 netcdf files):"
   ]
  },
  {
   "cell_type": "code",
   "execution_count": null,
   "metadata": {},
   "outputs": [],
   "source": [
    "!ls /kaggle/input/*"
   ]
  },
  {
   "cell_type": "markdown",
   "metadata": {},
   "source": [
    "Each file is a separate pressure level (the numbers in the filename are hPa), containing the following:\n",
    "- 16 time steps (dt = 6 h), starting at 0000 UTC 27 Oct 2012\n",
    "- With the variables:\n",
    "    - \"u\" - zonal wind (m/s)\n",
    "    - \"v\" - meridional ...\n",
    "    - \"w\" - vertical ...\n",
    "    - \"t\" - temperature (K)\n",
    "    - \"z\" - geopotential ($m^2/s^2$)\n",
    "\n",
    "You'll find variables below that you can modify to change the desired pressure level (changes the input file) and time step to plot.\n",
    "\n",
    "Note: when read in, variables are organized as $(y, x)$"
   ]
  },
  {
   "cell_type": "code",
   "execution_count": null,
   "metadata": {
    "tags": []
   },
   "outputs": [],
   "source": [
    "pressure = '300' # select the pressure level to plot\n",
    "nc = Dataset('/kaggle/input/era5jan2022/ERA5-jan2022-pl_'+pressure+'.nc') # this opens the netcdf file"
   ]
  },
  {
   "cell_type": "code",
   "execution_count": null,
   "metadata": {
    "tags": []
   },
   "outputs": [],
   "source": [
    "# Read in some essential variables\n",
    "\n",
    "itime = 10 # choose index of time\n",
    "\n",
    "# horizontal wind components\n",
    "u = nc.variables['u'][itime, :, :] # result is 2d array (lat, lon), m/s\n",
    "v = nc.variables['v'][itime, :, :]\n",
    "\n",
    "# geopotential\n",
    "phi = nc.variables['z'][itime, :, :] # m2/s2\n",
    "\n",
    "# Need one-dimensional lat/lon grids for gradient operation\n",
    "lon1d = nc.variables['longitude'][:]\n",
    "lat1d = nc.variables['latitude'][:]\n",
    "\n",
    "# need 2d lat, lon grid to match variable dimensions for plotting\n",
    "lat, lon = np.meshgrid(nc.variables['latitude'][:], nc.variables['longitude'][:], indexing='ij')"
   ]
  },
  {
   "cell_type": "markdown",
   "metadata": {},
   "source": [
    "#### Calculate the geostrophic and ageostrophic winds:\n",
    "\n",
    "$u_g=-\\dfrac{1}{f}\\dfrac{\\partial \\phi}{\\partial y}$ and $v_g=\\dfrac{1}{f}\\dfrac{\\partial \\phi}{\\partial x}$\n",
    "\n",
    "Once we calculate these, we may simply write $u=u_g+u_a$, or $u_a=u-u_g$ (same for $v_a$).\n",
    "\n",
    "Note that, because we're doing calculations on the globe, we must deal with spherical coordinates, i.e., $\\dfrac{\\partial}{\\partial y} \\rightarrow \\dfrac{\\partial}{a\\partial \\Phi}$ and $\\dfrac{\\partial}{ \\partial x} \\rightarrow \\dfrac{\\partial}{a \\text{cos}(\\Phi) \\partial \\lambda}$, where $\\lambda$ is longitude, $a$ is Earth radius, and $\\Phi$ is latitude (using uppercase simply to distinguish it from geopotential).\n",
    "\n",
    "HOWEVER, we may greatly simplify the spherical gradient calculations if we are only focusing on a relatively narrow range of latitude by assuming $a \\text{cos}(\\Phi) \\partial \\lambda \\approx C\\partial \\lambda$, where $C=a\\text{cos}(\\Phi_0)$. I suggest assuming $\\Phi_0=35^\\circ$. And similarly, let $f = f_0$ for $\\Phi=\\Phi_0$."
   ]
  },
  {
   "cell_type": "code",
   "execution_count": null,
   "metadata": {},
   "outputs": [],
   "source": [
    "# Necessary constants\n",
    "omeg = 7.292e-5 # Earth angular velocity, rad/s\n",
    "\n",
    "\n"
   ]
  },
  {
   "cell_type": "code",
   "execution_count": null,
   "metadata": {},
   "outputs": [],
   "source": [
    "# Geopotential gradient\n",
    "gradphi = np.gradient(phi,lat1d,lon1d) # gradient of phi WRT both lat and lon\n",
    "# See what this looks like:\n",
    "print(\"Shape of gradient variable:\",np.shape(gradphi))\n",
    "# gradphi[0] corresponds to the derivative dpartial(phi)/dpartial(lat1d)\n",
    "# gradphi[1] corresponds to the derivative dpartial(phi)/dpartial(lon1d)"
   ]
  },
  {
   "cell_type": "code",
   "execution_count": null,
   "metadata": {},
   "outputs": [],
   "source": [
    "# Geostrophic wind\n",
    "# ug = -1.* gradphi[0]...\n",
    "# vg =      gradphi[1]...\n",
    "\n",
    "# Ageostrophic wind\n"
   ]
  },
  {
   "cell_type": "markdown",
   "metadata": {},
   "source": [
    "#### Calculate relative vorticity:\n",
    "\n",
    "Next, calculate relative vorticity:\n",
    "\n",
    "$\\zeta=\\hat k \\cdot \\nabla \\times \\vec{U}$"
   ]
  },
  {
   "cell_type": "code",
   "execution_count": null,
   "metadata": {},
   "outputs": [],
   "source": [
    "\n"
   ]
  },
  {
   "cell_type": "markdown",
   "metadata": {},
   "source": [
    "#### Plotting routines:"
   ]
  },
  {
   "cell_type": "code",
   "execution_count": null,
   "metadata": {},
   "outputs": [],
   "source": [
    "# select plotting area\n",
    "plt_area=[-95, -55, 20, 55] # W,E,S,N\n",
    "\n",
    "# create figure\n",
    "fig = plt.figure(figsize=(20,16))\n",
    "ax = fig.add_subplot(111,projection=cartopy.crs.PlateCarree())\n",
    "ax.set_title(pressure + ' hPa Winds', fontsize=20)\n",
    "\n",
    "# fill contour for wind speed (jet streaks)\n",
    "# wind speed in m/s\n",
    "spd = np.sqrt(u**2 + v**2)\n",
    "clevs_spd = np.arange(30, 70, 10)\n",
    "im = ax.contourf(lon, lat, spd, clevs_spd, cmap='GnBu', alpha=0.6, \\\n",
    "                 extend='max',projection=cartopy.crs.PlateCarree(), zorder=2)\n",
    "cbar = plt.colorbar(im, ax=ax); cbar.ax.set_ylabel('m s$^{-1}$')\n",
    "\n",
    "# line contours of geopotential height (in black)\n",
    "g=9.81 # m/s^2\n",
    "geoz = phi / g / 10 # m2/s2 --> m --> dam\n",
    "clevs_phi = np.arange(800, 1000, 10) # may need to adapt these for the pressure level\n",
    "im = ax.contour(lon, lat, geoz, clevs_phi, colors='black', projection=cartopy.crs.PlateCarree(), zorder=2)\n",
    "ax.clabel(im, im.levels, inline=True, fontsize=13)\n",
    "\n",
    "# wind barbs\n",
    "spacing=6 #barbspacing (smaller if zoomed in)\n",
    "mps_to_kts=1.94384 # conversion factor from m/s to knots for barbs\n",
    "uplt = u * mps_to_kts\n",
    "vplt = v * mps_to_kts\n",
    "# mask for speeds < 10 kts\n",
    "spd = np.sqrt(uplt**2+vplt**2)\n",
    "uplt[np.where(spd < 10)] = np.nan\n",
    "ax.barbs(lon[::spacing,::spacing], lat[::spacing,::spacing], uplt[::spacing,::spacing], vplt[::spacing,::spacing], zorder=2)\n",
    "\n",
    "# add map features\n",
    "ax.add_feature(cartopy.feature.LAND,facecolor=\"lightgray\") #land color\n",
    "# ax.add_feature(cartopy.feature.OCEAN) #ocean color\n",
    "ax.add_feature(cartopy.feature.COASTLINE)\n",
    "ax.add_feature(cartopy.feature.STATES)\n",
    "ax.gridlines(draw_labels=True, dms=True, x_inline=False, y_inline=False)\n",
    "\n",
    "# Zoom into selected area (comment this out to plot entire available area)\n",
    "ax.set_extent(plt_area)\n",
    "\n",
    "plt.show()"
   ]
  }
 ],
 "metadata": {
  "kernelspec": {
   "display_name": "Python 3 (ipykernel)",
   "language": "python",
   "name": "python3"
  },
  "language_info": {
   "codemirror_mode": {
    "name": "ipython",
    "version": 3
   },
   "file_extension": ".py",
   "mimetype": "text/x-python",
   "name": "python",
   "nbconvert_exporter": "python",
   "pygments_lexer": "ipython3",
   "version": "3.7.12"
  }
 },
 "nbformat": 4,
 "nbformat_minor": 4
}
